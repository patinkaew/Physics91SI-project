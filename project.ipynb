{
 "cells": [
  {
   "cell_type": "markdown",
   "metadata": {},
   "source": [
    "Anime Data Analysis from MyAnimeList (MAL)"
   ]
  },
  {
   "cell_type": "code",
   "execution_count": 1,
   "metadata": {},
   "outputs": [],
   "source": [
    "#import modules\n",
    "import pandas as pd\n",
    "import numpy as np\n",
    "import matplotlib.pyplot as plt"
   ]
  },
  {
   "cell_type": "code",
   "execution_count": 2,
   "metadata": {},
   "outputs": [],
   "source": [
    "#load data frame\n",
    "#from https://www.kaggle.com/aludosan/myanimelist-anime-dataset-as-20190204/downloads/myanimelist-anime-dataset-as-20190204.zip/1\n",
    "animeDF = pd.read_csv('anime_data.csv')"
   ]
  },
  {
   "cell_type": "code",
   "execution_count": 3,
   "metadata": {},
   "outputs": [
    {
     "data": {
      "text/plain": [
       "(15278, 27)"
      ]
     },
     "execution_count": 3,
     "metadata": {},
     "output_type": "execute_result"
    }
   ],
   "source": [
    "#shape of data frame\n",
    "animeDF.shape"
   ]
  },
  {
   "cell_type": "code",
   "execution_count": 4,
   "metadata": {},
   "outputs": [
    {
     "data": {
      "text/html": [
       "<div>\n",
       "<style scoped>\n",
       "    .dataframe tbody tr th:only-of-type {\n",
       "        vertical-align: middle;\n",
       "    }\n",
       "\n",
       "    .dataframe tbody tr th {\n",
       "        vertical-align: top;\n",
       "    }\n",
       "\n",
       "    .dataframe thead th {\n",
       "        text-align: right;\n",
       "    }\n",
       "</style>\n",
       "<table border=\"1\" class=\"dataframe\">\n",
       "  <thead>\n",
       "    <tr style=\"text-align: right;\">\n",
       "      <th></th>\n",
       "      <th>animeID</th>\n",
       "      <th>name</th>\n",
       "      <th>title_english</th>\n",
       "      <th>title_japanese</th>\n",
       "      <th>title_synonyms</th>\n",
       "      <th>type</th>\n",
       "      <th>source</th>\n",
       "      <th>producers</th>\n",
       "      <th>genre</th>\n",
       "      <th>studio</th>\n",
       "      <th>...</th>\n",
       "      <th>scored_by</th>\n",
       "      <th>rank</th>\n",
       "      <th>popularity</th>\n",
       "      <th>members</th>\n",
       "      <th>favorites</th>\n",
       "      <th>synopsis</th>\n",
       "      <th>background</th>\n",
       "      <th>premiered</th>\n",
       "      <th>broadcast</th>\n",
       "      <th>related</th>\n",
       "    </tr>\n",
       "  </thead>\n",
       "  <tbody>\n",
       "    <tr>\n",
       "      <th>0</th>\n",
       "      <td>1</td>\n",
       "      <td>Cowboy Bebop</td>\n",
       "      <td>Cowboy Bebop</td>\n",
       "      <td>カウボーイビバップ</td>\n",
       "      <td>[]</td>\n",
       "      <td>TV</td>\n",
       "      <td>Original</td>\n",
       "      <td>['Bandai Visual']</td>\n",
       "      <td>['Action', 'Adventure', 'Comedy', 'Drama', 'Sc...</td>\n",
       "      <td>['Sunrise']</td>\n",
       "      <td>...</td>\n",
       "      <td>405664.0</td>\n",
       "      <td>26.0</td>\n",
       "      <td>39.0</td>\n",
       "      <td>795733.0</td>\n",
       "      <td>43460.0</td>\n",
       "      <td>In the year 2071, humanity has colonized sever...</td>\n",
       "      <td>When Cowboy Bebop first aired in spring of 199...</td>\n",
       "      <td>Spring 1998</td>\n",
       "      <td>Saturdays at 01:00 (JST)</td>\n",
       "      <td>{'Adaptation': [{'mal_id': 173, 'type': 'manga...</td>\n",
       "    </tr>\n",
       "    <tr>\n",
       "      <th>1</th>\n",
       "      <td>5</td>\n",
       "      <td>Cowboy Bebop: Tengoku no Tobira</td>\n",
       "      <td>Cowboy Bebop: The Movie</td>\n",
       "      <td>カウボーイビバップ 天国の扉</td>\n",
       "      <td>[\"Cowboy Bebop: Knockin' on Heaven's Door\"]</td>\n",
       "      <td>Movie</td>\n",
       "      <td>Original</td>\n",
       "      <td>['Sunrise', 'Bandai Visual']</td>\n",
       "      <td>['Action', 'Drama', 'Mystery', 'Sci-Fi', 'Space']</td>\n",
       "      <td>['Bones']</td>\n",
       "      <td>...</td>\n",
       "      <td>120243.0</td>\n",
       "      <td>164.0</td>\n",
       "      <td>449.0</td>\n",
       "      <td>197791.0</td>\n",
       "      <td>776.0</td>\n",
       "      <td>Another day, another bounty—such is the life o...</td>\n",
       "      <td>NaN</td>\n",
       "      <td>NaN</td>\n",
       "      <td>NaN</td>\n",
       "      <td>{'Parent story': [{'mal_id': 1, 'type': 'anime...</td>\n",
       "    </tr>\n",
       "    <tr>\n",
       "      <th>2</th>\n",
       "      <td>6</td>\n",
       "      <td>Trigun</td>\n",
       "      <td>Trigun</td>\n",
       "      <td>トライガン</td>\n",
       "      <td>[]</td>\n",
       "      <td>TV</td>\n",
       "      <td>Manga</td>\n",
       "      <td>['Victor Entertainment']</td>\n",
       "      <td>['Action', 'Sci-Fi', 'Adventure', 'Comedy', 'D...</td>\n",
       "      <td>['Madhouse']</td>\n",
       "      <td>...</td>\n",
       "      <td>212537.0</td>\n",
       "      <td>255.0</td>\n",
       "      <td>146.0</td>\n",
       "      <td>408548.0</td>\n",
       "      <td>10432.0</td>\n",
       "      <td>Vash the Stampede is the man with a $$60,000,0...</td>\n",
       "      <td>The Japanese release by Victor Entertainment h...</td>\n",
       "      <td>Spring 1998</td>\n",
       "      <td>Thursdays at 01:15 (JST)</td>\n",
       "      <td>{'Adaptation': [{'mal_id': 703, 'type': 'manga...</td>\n",
       "    </tr>\n",
       "  </tbody>\n",
       "</table>\n",
       "<p>3 rows × 27 columns</p>\n",
       "</div>"
      ],
      "text/plain": [
       "   animeID                             name            title_english  \\\n",
       "0        1                     Cowboy Bebop             Cowboy Bebop   \n",
       "1        5  Cowboy Bebop: Tengoku no Tobira  Cowboy Bebop: The Movie   \n",
       "2        6                           Trigun                   Trigun   \n",
       "\n",
       "   title_japanese                               title_synonyms   type  \\\n",
       "0       カウボーイビバップ                                           []     TV   \n",
       "1  カウボーイビバップ 天国の扉  [\"Cowboy Bebop: Knockin' on Heaven's Door\"]  Movie   \n",
       "2           トライガン                                           []     TV   \n",
       "\n",
       "     source                     producers  \\\n",
       "0  Original             ['Bandai Visual']   \n",
       "1  Original  ['Sunrise', 'Bandai Visual']   \n",
       "2     Manga      ['Victor Entertainment']   \n",
       "\n",
       "                                               genre        studio  \\\n",
       "0  ['Action', 'Adventure', 'Comedy', 'Drama', 'Sc...   ['Sunrise']   \n",
       "1  ['Action', 'Drama', 'Mystery', 'Sci-Fi', 'Space']     ['Bones']   \n",
       "2  ['Action', 'Sci-Fi', 'Adventure', 'Comedy', 'D...  ['Madhouse']   \n",
       "\n",
       "                         ...                           scored_by   rank  \\\n",
       "0                        ...                            405664.0   26.0   \n",
       "1                        ...                            120243.0  164.0   \n",
       "2                        ...                            212537.0  255.0   \n",
       "\n",
       "   popularity   members  favorites  \\\n",
       "0        39.0  795733.0    43460.0   \n",
       "1       449.0  197791.0      776.0   \n",
       "2       146.0  408548.0    10432.0   \n",
       "\n",
       "                                            synopsis  \\\n",
       "0  In the year 2071, humanity has colonized sever...   \n",
       "1  Another day, another bounty—such is the life o...   \n",
       "2  Vash the Stampede is the man with a $$60,000,0...   \n",
       "\n",
       "                                          background    premiered  \\\n",
       "0  When Cowboy Bebop first aired in spring of 199...  Spring 1998   \n",
       "1                                                NaN          NaN   \n",
       "2  The Japanese release by Victor Entertainment h...  Spring 1998   \n",
       "\n",
       "                  broadcast                                            related  \n",
       "0  Saturdays at 01:00 (JST)  {'Adaptation': [{'mal_id': 173, 'type': 'manga...  \n",
       "1                       NaN  {'Parent story': [{'mal_id': 1, 'type': 'anime...  \n",
       "2  Thursdays at 01:15 (JST)  {'Adaptation': [{'mal_id': 703, 'type': 'manga...  \n",
       "\n",
       "[3 rows x 27 columns]"
      ]
     },
     "execution_count": 4,
     "metadata": {},
     "output_type": "execute_result"
    }
   ],
   "source": [
    "animeDF.head(3)"
   ]
  },
  {
   "cell_type": "code",
   "execution_count": 5,
   "metadata": {},
   "outputs": [
    {
     "data": {
      "text/html": [
       "<div>\n",
       "<style scoped>\n",
       "    .dataframe tbody tr th:only-of-type {\n",
       "        vertical-align: middle;\n",
       "    }\n",
       "\n",
       "    .dataframe tbody tr th {\n",
       "        vertical-align: top;\n",
       "    }\n",
       "\n",
       "    .dataframe thead th {\n",
       "        text-align: right;\n",
       "    }\n",
       "</style>\n",
       "<table border=\"1\" class=\"dataframe\">\n",
       "  <thead>\n",
       "    <tr style=\"text-align: right;\">\n",
       "      <th></th>\n",
       "      <th>animeID</th>\n",
       "      <th>name</th>\n",
       "      <th>title_english</th>\n",
       "      <th>title_japanese</th>\n",
       "      <th>title_synonyms</th>\n",
       "      <th>type</th>\n",
       "      <th>source</th>\n",
       "      <th>producers</th>\n",
       "      <th>genre</th>\n",
       "      <th>studio</th>\n",
       "      <th>...</th>\n",
       "      <th>scored_by</th>\n",
       "      <th>rank</th>\n",
       "      <th>popularity</th>\n",
       "      <th>members</th>\n",
       "      <th>favorites</th>\n",
       "      <th>synopsis</th>\n",
       "      <th>background</th>\n",
       "      <th>premiered</th>\n",
       "      <th>broadcast</th>\n",
       "      <th>related</th>\n",
       "    </tr>\n",
       "  </thead>\n",
       "  <tbody>\n",
       "    <tr>\n",
       "      <th>15275</th>\n",
       "      <td>39197</td>\n",
       "      <td>Karrimor Mountain Club</td>\n",
       "      <td>Karrimor Mountain Club</td>\n",
       "      <td>Karrimor Mountain Club</td>\n",
       "      <td>[]</td>\n",
       "      <td>ONA</td>\n",
       "      <td>Original</td>\n",
       "      <td>[]</td>\n",
       "      <td>['Adventure', 'Slice of Life']</td>\n",
       "      <td>[]</td>\n",
       "      <td>...</td>\n",
       "      <td>0.0</td>\n",
       "      <td>11624.0</td>\n",
       "      <td>15424.0</td>\n",
       "      <td>10.0</td>\n",
       "      <td>0.0</td>\n",
       "      <td>A series of animated commercials produced by K...</td>\n",
       "      <td>NaN</td>\n",
       "      <td>NaN</td>\n",
       "      <td>NaN</td>\n",
       "      <td>{}</td>\n",
       "    </tr>\n",
       "    <tr>\n",
       "      <th>15276</th>\n",
       "      <td>39198</td>\n",
       "      <td>Kanata no Astra</td>\n",
       "      <td>NaN</td>\n",
       "      <td>彼方のアストラ</td>\n",
       "      <td>['Astra Lost in Space']</td>\n",
       "      <td>TV</td>\n",
       "      <td>Manga</td>\n",
       "      <td>[]</td>\n",
       "      <td>['Action', 'Sci-Fi', 'Shounen', 'Space']</td>\n",
       "      <td>['Lerche']</td>\n",
       "      <td>...</td>\n",
       "      <td>0.0</td>\n",
       "      <td>0.0</td>\n",
       "      <td>0.0</td>\n",
       "      <td>0.0</td>\n",
       "      <td>2.0</td>\n",
       "      <td>The year is 2061, when space travel is now pos...</td>\n",
       "      <td>NaN</td>\n",
       "      <td>NaN</td>\n",
       "      <td>Unknown</td>\n",
       "      <td>{'Adaptation': [{'mal_id': 98578, 'type': 'man...</td>\n",
       "    </tr>\n",
       "    <tr>\n",
       "      <th>15277</th>\n",
       "      <td>39199</td>\n",
       "      <td>Katsute Kami Datta Kemono-tachi e</td>\n",
       "      <td>NaN</td>\n",
       "      <td>かつて神だった獣たちへ</td>\n",
       "      <td>['To the Abandoned Sacred Beasts']</td>\n",
       "      <td>TV</td>\n",
       "      <td>Manga</td>\n",
       "      <td>[]</td>\n",
       "      <td>['Fantasy', 'Shounen']</td>\n",
       "      <td>['MAPPA']</td>\n",
       "      <td>...</td>\n",
       "      <td>0.0</td>\n",
       "      <td>0.0</td>\n",
       "      <td>0.0</td>\n",
       "      <td>9.0</td>\n",
       "      <td>1.0</td>\n",
       "      <td>During the Civil War, the North—desperate to d...</td>\n",
       "      <td>NaN</td>\n",
       "      <td>NaN</td>\n",
       "      <td>Unknown</td>\n",
       "      <td>{'Adaptation': [{'mal_id': 72117, 'type': 'man...</td>\n",
       "    </tr>\n",
       "  </tbody>\n",
       "</table>\n",
       "<p>3 rows × 27 columns</p>\n",
       "</div>"
      ],
      "text/plain": [
       "       animeID                               name           title_english  \\\n",
       "15275    39197             Karrimor Mountain Club  Karrimor Mountain Club   \n",
       "15276    39198                    Kanata no Astra                     NaN   \n",
       "15277    39199  Katsute Kami Datta Kemono-tachi e                     NaN   \n",
       "\n",
       "               title_japanese                      title_synonyms  type  \\\n",
       "15275  Karrimor Mountain Club                                  []   ONA   \n",
       "15276                 彼方のアストラ             ['Astra Lost in Space']    TV   \n",
       "15277             かつて神だった獣たちへ  ['To the Abandoned Sacred Beasts']    TV   \n",
       "\n",
       "         source  producers                                     genre  \\\n",
       "15275  Original         []            ['Adventure', 'Slice of Life']   \n",
       "15276     Manga         []  ['Action', 'Sci-Fi', 'Shounen', 'Space']   \n",
       "15277     Manga         []                    ['Fantasy', 'Shounen']   \n",
       "\n",
       "           studio                        ...                          \\\n",
       "15275          []                        ...                           \n",
       "15276  ['Lerche']                        ...                           \n",
       "15277   ['MAPPA']                        ...                           \n",
       "\n",
       "        scored_by     rank  popularity  members  favorites  \\\n",
       "15275         0.0  11624.0     15424.0     10.0        0.0   \n",
       "15276         0.0      0.0         0.0      0.0        2.0   \n",
       "15277         0.0      0.0         0.0      9.0        1.0   \n",
       "\n",
       "                                                synopsis   background  \\\n",
       "15275  A series of animated commercials produced by K...          NaN   \n",
       "15276  The year is 2061, when space travel is now pos...          NaN   \n",
       "15277  During the Civil War, the North—desperate to d...          NaN   \n",
       "\n",
       "        premiered   broadcast  \\\n",
       "15275         NaN         NaN   \n",
       "15276         NaN     Unknown   \n",
       "15277         NaN     Unknown   \n",
       "\n",
       "                                                 related  \n",
       "15275                                                 {}  \n",
       "15276  {'Adaptation': [{'mal_id': 98578, 'type': 'man...  \n",
       "15277  {'Adaptation': [{'mal_id': 72117, 'type': 'man...  \n",
       "\n",
       "[3 rows x 27 columns]"
      ]
     },
     "execution_count": 5,
     "metadata": {},
     "output_type": "execute_result"
    }
   ],
   "source": [
    "animeDF.tail(3)"
   ]
  },
  {
   "cell_type": "markdown",
   "metadata": {},
   "source": [
    "Data Analysis of Anime Studios"
   ]
  },
  {
   "cell_type": "code",
   "execution_count": 6,
   "metadata": {},
   "outputs": [],
   "source": [
    "def parse_list_text(text): \n",
    "    remove = ['\\'', '[', ']', '\\\"']\n",
    "    word_list = text.split(',')\n",
    "    for i in range(len(word_list)) :\n",
    "        for re in remove :\n",
    "            word_list[i] = word_list[i].replace(re, '')\n",
    "            word_list[i] = word_list[i].strip()\n",
    "    word_list = [word for word in word_list if len(word) != 0] #remove empty string\n",
    "    return word_list"
   ]
  },
  {
   "cell_type": "code",
   "execution_count": 7,
   "metadata": {},
   "outputs": [],
   "source": [
    "#find n most occurrence\n",
    "def find_max(dct):\n",
    "    m = list(dct.keys())[0]\n",
    "    max_val = 0\n",
    "    for elem in dct:\n",
    "        if dct[elem] > dct[m]:\n",
    "            m = elem\n",
    "            max_val = dct[elem]\n",
    "    return m\n",
    "    \n",
    "    \n",
    "def find_n_max(dct, n):\n",
    "    rslt = {}\n",
    "    dct_copy = dct.copy()\n",
    "    cap = np.infty\n",
    "    for i in range(n):\n",
    "        m = find_max(dct_copy)\n",
    "        rslt[m] = dct_copy[m]\n",
    "        cap = dct_copy[m]\n",
    "        dct_copy.pop(m)\n",
    "    return rslt"
   ]
  },
  {
   "cell_type": "code",
   "execution_count": 8,
   "metadata": {},
   "outputs": [
    {
     "data": {
      "text/plain": [
       "{'Toei Animation': 740,\n",
       " 'Sunrise': 467,\n",
       " 'Madhouse': 344,\n",
       " 'J.C.Staff': 341,\n",
       " 'Production I.G': 312,\n",
       " 'TMS Entertainment': 281,\n",
       " 'Studio Deen': 266,\n",
       " 'Studio Pierrot': 253,\n",
       " 'OLM': 212,\n",
       " 'Nippon Animation': 207}"
      ]
     },
     "execution_count": 8,
     "metadata": {},
     "output_type": "execute_result"
    }
   ],
   "source": [
    "#find which studio produce the most number of anime\n",
    "animeStudio = animeDF.loc[:, ' studio']\n",
    "animeStudio = animeStudio.fillna('')\n",
    "count = {}\n",
    "for list_text in animeStudio:\n",
    "    lst = parse_list_text(list_text)\n",
    "    for word in lst:\n",
    "        if word in count :\n",
    "            count[word] += 1\n",
    "        else :\n",
    "            count[word] = 1\n",
    "find_n_max(count, 10) "
   ]
  },
  {
   "cell_type": "code",
   "execution_count": 9,
   "metadata": {},
   "outputs": [
    {
     "data": {
      "text/plain": [
       "(array([531.,  12.,   6.,   3.,   3.,   0.,   1.,   0.,   0.,   1.]),\n",
       " array([  1. ,  74.9, 148.8, 222.7, 296.6, 370.5, 444.4, 518.3, 592.2,\n",
       "        666.1, 740. ]),\n",
       " <a list of 10 Patch objects>)"
      ]
     },
     "execution_count": 9,
     "metadata": {},
     "output_type": "execute_result"
    },
    {
     "data": {
      "image/png": "[encoded data removed]",
      "text/plain": [
       "<Figure size 432x288 with 1 Axes>"
      ]
     },
     "metadata": {
      "needs_background": "light"
     },
     "output_type": "display_data"
    }
   ],
   "source": [
    "plt.hist([elem for elem in count.values() if elem > 0])"
   ]
  },
  {
   "cell_type": "code",
   "execution_count": 10,
   "metadata": {},
   "outputs": [],
   "source": [
    "animeScore = animeDF.loc[:, ' score']\n",
    "animeMember = animeDF.loc[:, ' members']"
   ]
  },
  {
   "cell_type": "code",
   "execution_count": 11,
   "metadata": {},
   "outputs": [
    {
     "data": {
      "text/plain": [
       "<matplotlib.axes._subplots.AxesSubplot at 0x118699c50>"
      ]
     },
     "execution_count": 11,
     "metadata": {},
     "output_type": "execute_result"
    },
    {
     "data": {
      "image/png": "[encoded data removed]",
      "text/plain": [
       "<Figure size 432x288 with 1 Axes>"
      ]
     },
     "metadata": {
      "needs_background": "light"
     },
     "output_type": "display_data"
    }
   ],
   "source": [
    "animeScore.hist()"
   ]
  },
  {
   "cell_type": "code",
   "execution_count": 12,
   "metadata": {},
   "outputs": [
    {
     "data": {
      "text/plain": [
       "<matplotlib.axes._subplots.AxesSubplot at 0x1187b3710>"
      ]
     },
     "execution_count": 12,
     "metadata": {},
     "output_type": "execute_result"
    },
    {
     "data": {
      "image/png": "[encoded data removed]",
      "text/plain": [
       "<Figure size 432x288 with 1 Axes>"
      ]
     },
     "metadata": {
      "needs_background": "light"
     },
     "output_type": "display_data"
    }
   ],
   "source": [
    "animeMember.hist()"
   ]
  },
  {
   "cell_type": "code",
   "execution_count": 13,
   "metadata": {},
   "outputs": [
    {
     "name": "stdout",
     "output_type": "stream",
     "text": [
      "7.210000000000001\n",
      "17279.2\n"
     ]
    }
   ],
   "source": [
    "score_thres= animeScore.quantile(0.8)\n",
    "member_thres = animeMember.quantile(0.8)\n",
    "print(score_thres)\n",
    "print(member_thres)"
   ]
  },
  {
   "cell_type": "code",
   "execution_count": 14,
   "metadata": {},
   "outputs": [],
   "source": [
    "def is_good_anime(i):\n",
    "    return animeMember[i] > member_thres and animeScore[i] > score_thres"
   ]
  },
  {
   "cell_type": "code",
   "execution_count": 15,
   "metadata": {},
   "outputs": [
    {
     "data": {
      "text/plain": [
       "{'Production I.G': 112,\n",
       " 'Madhouse': 105,\n",
       " 'Sunrise': 103,\n",
       " 'J.C.Staff': 103,\n",
       " 'Toei Animation': 97,\n",
       " 'A-1 Pictures': 92,\n",
       " 'Studio Deen': 90,\n",
       " 'Bones': 67,\n",
       " 'Kyoto Animation': 63,\n",
       " 'Studio Pierrot': 59}"
      ]
     },
     "execution_count": 15,
     "metadata": {},
     "output_type": "execute_result"
    }
   ],
   "source": [
    "#find studios with highest 'good' anime count\n",
    "good_count = {}\n",
    "for i, list_text in enumerate(animeStudio):\n",
    "    if is_good_anime(i):  \n",
    "        lst = parse_list_text(list_text)\n",
    "        for word in lst:\n",
    "            if word in good_count :\n",
    "                good_count[word] += 1\n",
    "            else :\n",
    "                good_count[word] = 1\n",
    "find_n_max(good_count, 10)"
   ]
  },
  {
   "cell_type": "code",
   "execution_count": 16,
   "metadata": {},
   "outputs": [
    {
     "data": {
      "text/plain": [
       "(array([139.,  16.,   5.,   3.,   2.,   3.,   0.,   0.,   3.,   4.]),\n",
       " array([  1. ,  12.1,  23.2,  34.3,  45.4,  56.5,  67.6,  78.7,  89.8,\n",
       "        100.9, 112. ]),\n",
       " <a list of 10 Patch objects>)"
      ]
     },
     "execution_count": 16,
     "metadata": {},
     "output_type": "execute_result"
    },
    {
     "data": {
      "image/png": "[encoded data removed]",
      "text/plain": [
       "<Figure size 432x288 with 1 Axes>"
      ]
     },
     "metadata": {
      "needs_background": "light"
     },
     "output_type": "display_data"
    }
   ],
   "source": [
    "plt.hist([elem for elem in good_count.values() if elem > 0])"
   ]
  },
  {
   "cell_type": "code",
   "execution_count": 17,
   "metadata": {},
   "outputs": [
    {
     "data": {
      "text/plain": [
       "27.429084380610412"
      ]
     },
     "execution_count": 17,
     "metadata": {},
     "output_type": "execute_result"
    }
   ],
   "source": [
    "mean_anime_per_studio = animeDF.shape[0] / len(count)\n",
    "mean_anime_per_studio"
   ]
  },
  {
   "cell_type": "code",
   "execution_count": 18,
   "metadata": {},
   "outputs": [
    {
     "data": {
      "text/plain": [
       "{'Studio Chizu': 100.0,\n",
       " 'Animation Do': 100.0,\n",
       " 'Studio Rikka': 85.71428571428571,\n",
       " 'Shuka': 80.0,\n",
       " 'David Production': 67.85714285714286,\n",
       " 'Studio VOLN': 57.14285714285714,\n",
       " 'Bones': 55.833333333333336,\n",
       " 'AIC Build': 55.55555555555556,\n",
       " 'Lerche': 54.166666666666664,\n",
       " 'Kyoto Animation': 53.38983050847458}"
      ]
     },
     "execution_count": 18,
     "metadata": {},
     "output_type": "execute_result"
    }
   ],
   "source": [
    "good_ratio = {}\n",
    "for m in count:\n",
    "    if m in good_count and count[m] > mean_anime_per_studio/10:\n",
    "        good_ratio[m] = good_count[m]/count[m] * 100\n",
    "    else:\n",
    "        good_ratio[m] = 0\n",
    "find_n_max(good_ratio, 10) "
   ]
  },
  {
   "cell_type": "code",
   "execution_count": 19,
   "metadata": {},
   "outputs": [
    {
     "data": {
      "image/png": "[encoded data removed]",
      "text/plain": [
       "<Figure size 432x288 with 1 Axes>"
      ]
     },
     "metadata": {
      "needs_background": "light"
     },
     "output_type": "display_data"
    }
   ],
   "source": [
    "plt.hist([elem for elem in good_ratio.values() if elem > 0])\n",
    "plt.show()"
   ]
  }
 ],
 "metadata": {
  "kernelspec": {
   "display_name": "Python 3",
   "language": "python",
   "name": "python3"
  },
  "language_info": {
   "codemirror_mode": {
    "name": "ipython",
    "version": 3
   },
   "file_extension": ".py",
   "mimetype": "text/x-python",
   "name": "python",
   "nbconvert_exporter": "python",
   "pygments_lexer": "ipython3",
   "version": "3.7.1"
  }
 },
 "nbformat": 4,
 "nbformat_minor": 2
}
